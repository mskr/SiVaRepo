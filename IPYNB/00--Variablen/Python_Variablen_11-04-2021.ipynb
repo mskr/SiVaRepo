{
 "cells": [
  {
   "cell_type": "markdown",
   "metadata": {},
   "source": [
    "# Python - Variablen\n",
    "\n",
    "Heute lernen wir Python und das Jupyter Notebook kennen.\n",
    "In diesem Notebook dreht es sich um Variablen in Python.\n",
    "Wir werden lernen, mit Text umzugehen und mit Zahlen zu rechnen.\n",
    "Zu jedem Unterthema gibt es eine Einleitung und Beispiele, die die Theorie näher erklären.\n",
    "Na dann, auf gehts!\n",
    "\n",
    "\n",
    "## Einen Wert zuweisen\n",
    "\n",
    "In einer Variable lassen sich Daten speichern.\n",
    "Wir können einzelne Buchstaben, Zahlen, Sätze aber auch komplexere Strukturen hier speichern.\n",
    "Eine Variable braucht einen Namen und einen Wert.\n",
    "\n",
    "Name           |Zuweisung|Wert   \n",
    ":--------------|:-------:|------------:\n",
    "meine_variable|=        |\"Hallo Welt\"\n",
    "\n",
    "## Datentypen\n",
    "\n",
    "Wie bereits erwähnt lassen sich in einer Variable alle möglichen Daten speichern.\n",
    "Daten besitzen immer einen bestimmten Typ.\n",
    "\n",
    "Name   |Typ  |Beschreibung      |Beispiel\n",
    ":------|:----|:-----------------|:----------- \n",
    "Integer|int  |Eine ganze Zahl   |`x = 1`\n",
    "Float  |float|Eine Kommazahl    |`x = 1.0`\n",
    "String |str  |Mehrere Buchstaben|`x = \"eins\"`\n",
    "Boolean|bool |Wahrheitswert     |`x = True`"
   ]
  },
  {
   "cell_type": "code",
   "execution_count": 8,
   "metadata": {},
   "outputs": [],
   "source": [
    "# Übungsfeld für das Erstellen von Variablen\n",
    "\n",
    "\n",
    "# name, wert, datentyp\n",
    "\n",
    "meine_variable = 1 # wert: 1, typ: int, name: meine_varaible\n",
    "\n",
    "zweite_variable = 3.5 # name_ zweite_vARAIBLE., wert: 3.5, typ: float\n",
    "\n",
    "test = \"hallo\" # name: test, wert: \"hallo\", typ: string\n",
    "\n",
    "zweiter_test = \"welt\" # name: zweiter_test, wert: welt, typ: string\n",
    "\n",
    "drei = False # name: drei, wert: False, typ: bool\n",
    "\n",
    "falsch = \"False\" # name: falsch, wert: False, typ: string\n",
    "\n",
    "welt = \"True\" # name: welt, wert: True, typ. string\n",
    "\n",
    "wahr = \"Falsch\" # name: wahr, typ: string, wert: Falsch\n",
    "\n",
    "wahr_zwei = False # name: wahr_zwei, wert: False, typ: bool\n",
    "\n",
    "\n",
    "# in variable umwandeln\n",
    "\n",
    "# name: hallo, wert: welt, typ: string\n",
    "hallo = \"welt\"\n",
    "\n",
    "# name: test, wert: False, typ:string\n",
    "test = \"False\"\n",
    "\n",
    "# name: zwei, wert: 2, typ: int\n",
    "zwei = 2 \n",
    "\n",
    "# name: zahl, wert: 3.5, typ: float\n",
    "zahl = 3.5\n",
    "\n",
    "# name: wahr, wert: False, bool\n",
    "wahr = False\n",
    "\n",
    "# name: falsch, wert: False, typ: string\n",
    "falsch = \"False\"\n",
    "\n",
    "# name: test_drei: True, typ: bool\n",
    "test_drei = True"
   ]
  },
  {
   "cell_type": "markdown",
   "metadata": {},
   "source": [
    "### Eine Variable auf ihren Datentyp überprüfen\n",
    "\n",
    "```python\n",
    "test = \"Hallo Welt\"\n",
    "print(type(test))\n",
    "```"
   ]
  },
  {
   "cell_type": "code",
   "execution_count": 2,
   "metadata": {},
   "outputs": [
    {
     "name": "stdout",
     "output_type": "stream",
     "text": [
      "<class 'str'>\n",
      "<class 'float'>\n"
     ]
    }
   ],
   "source": [
    "# Übungsfeld für das Überprüfen des Datentyps einer Variable\n",
    "test = \"Hallo Welt\"\n",
    "print(type(test))\n",
    "\n",
    "zahl = 4.4\n",
    "print(type(zahl))"
   ]
  },
  {
   "cell_type": "markdown",
   "metadata": {},
   "source": [
    "###  Warum gibt es Datentypen?\n",
    "\n",
    "Datentypen definieren nicht nur was für Werte in einer Variable gespeichert wird, sondern auch welche Operationen auf eine Variable angewandt werden können.\n",
    "\n",
    "### Operationen der verschiedenen Datentypen\n",
    "\n",
    "#### Rechnen mit Integern\n",
    "\n",
    "Mit \"int\" und \"float\" können wir ganz normal rechnen.\n",
    "\n",
    "```python\n",
    "print(2 + 3)  # addieren\n",
    "print(5 - 4)  # subtrahieren\n",
    "print(2 * 10) # multiplizieren\n",
    "print(6 / 3)  # dividieren\n",
    "```"
   ]
  },
  {
   "cell_type": "code",
   "execution_count": 8,
   "metadata": {},
   "outputs": [
    {
     "name": "stdout",
     "output_type": "stream",
     "text": [
      "9\n",
      "20\n",
      "3.0\n",
      "<class 'float'>\n",
      "42\n"
     ]
    },
    {
     "ename": "TypeError",
     "evalue": "can only concatenate str (not \"int\") to str",
     "output_type": "error",
     "traceback": [
      "\u001b[0;31m---------------------------------------------------------------------------\u001b[0m",
      "\u001b[0;31mTypeError\u001b[0m                                 Traceback (most recent call last)",
      "\u001b[0;32m<ipython-input-8-deb23d0ce467>\u001b[0m in \u001b[0;36m<module>\u001b[0;34m\u001b[0m\n\u001b[1;32m     16\u001b[0m \u001b[0;31m# (2+4)*10\u001b[0m\u001b[0;34m\u001b[0m\u001b[0;34m\u001b[0m\u001b[0;34m\u001b[0m\u001b[0m\n\u001b[1;32m     17\u001b[0m \u001b[0mergebnis\u001b[0m \u001b[0;34m=\u001b[0m \u001b[0;34m(\u001b[0m\u001b[0;36m2\u001b[0m\u001b[0;34m+\u001b[0m\u001b[0;36m4\u001b[0m\u001b[0;34m)\u001b[0m\u001b[0;34m*\u001b[0m\u001b[0;36m10\u001b[0m\u001b[0;34m\u001b[0m\u001b[0;34m\u001b[0m\u001b[0m\n\u001b[0;32m---> 18\u001b[0;31m \u001b[0mprint\u001b[0m\u001b[0;34m(\u001b[0m\u001b[0;34m\"(2+4)*10 = \"\u001b[0m \u001b[0;34m+\u001b[0m \u001b[0mergebnis\u001b[0m\u001b[0;34m)\u001b[0m\u001b[0;34m\u001b[0m\u001b[0;34m\u001b[0m\u001b[0m\n\u001b[0m\u001b[1;32m     19\u001b[0m \u001b[0;34m\u001b[0m\u001b[0m\n\u001b[1;32m     20\u001b[0m \u001b[0mpow\u001b[0m\u001b[0;34m(\u001b[0m\u001b[0;36m2\u001b[0m\u001b[0;34m,\u001b[0m\u001b[0;36m4\u001b[0m\u001b[0;34m)\u001b[0m \u001b[0;31m# 2 hoch 4, basis: 2, exponent: 4\u001b[0m\u001b[0;34m\u001b[0m\u001b[0;34m\u001b[0m\u001b[0m\n",
      "\u001b[0;31mTypeError\u001b[0m: can only concatenate str (not \"int\") to str"
     ]
    }
   ],
   "source": [
    "# Mit Strings rechnen\n",
    "\n",
    "# 4+5\n",
    "print(4+5)\n",
    "\n",
    "# 10*2\n",
    "print(10*2)\n",
    "\n",
    "# 9/3\n",
    "print(9/3) # / -> ergebnis hat typ float\n",
    "print(type(9/3))\n",
    "\n",
    "# 2+(4*10)\n",
    "print(2+(4*10))\n",
    "\n",
    "# (2+4)*10\n",
    "ergebnis = (2+4)*10\n",
    "toChar()\n",
    "print(\"(2+4)*10 = \" + ergebnis)\n",
    "\n",
    "pow(2,4) # 2 hoch 4, basis: 2, exponent: 4\n",
    "print(pow(2,4)) \n",
    "\n",
    "zahl1 = 10\n",
    "zahl2 = 20\n",
    "zahl3 = 5\n",
    "\n",
    "# zahl1 +zahl2 - zahl3\n",
    "\n",
    "high = 3\n",
    "print(type(high - 3))"
   ]
  },
  {
   "cell_type": "markdown",
   "metadata": {},
   "source": [
    "#### Manipulation von Strings\n",
    "\n",
    "Mehrere Variablen vom Typ \"String\" lassen sich miteinander verbinden.\n",
    "\n",
    "```python\n",
    "print(\"Hallo\" + \"Welt\") # verbindet beide Wörter\n",
    "print(\"Hallo\",\"Welt\")   # verbindet beide Wörter und fügt ein Leerzeichen zwischen ihnen ein\n",
    "```"
   ]
  },
  {
   "cell_type": "code",
   "execution_count": 21,
   "metadata": {},
   "outputs": [
    {
     "name": "stdout",
     "output_type": "stream",
     "text": [
      "Silicon Valleytrainer\n",
      "Hallo Welt , !\n",
      "Hallo Welt , !\n",
      "Lösung 3: Hallo Welt, !\n",
      "Lösung 4: Hallo Welt, !\n"
     ]
    }
   ],
   "source": [
    "# Beispiel\n",
    "\n",
    "vorname = \"Silicon Valley\"\n",
    "nachname = \"trainer\"\n",
    "\n",
    "print(vorname + nachname)\n",
    "\n",
    "wort1 = \"Hallo\"\n",
    "wort2 = \"Welt\"\n",
    "wort3 = \"!\"\n",
    "komma = \",\"\n",
    "wort4 = \",\"\n",
    "wort5 = \"Welt, \"\n",
    "\n",
    "# erbnis: \"Hallo Welt, !\"\n",
    "# tipp: zuerst auf erbnis \"Hallo Welt !\"\n",
    "\n",
    "# lösung 1\n",
    "print(\"Lösung 1:\",wort1, wort2, komma, wort3)\n",
    "\n",
    "# lösung 2\n",
    "print(\"Lösung 2\", wort1, wort2, wort4, wort3)\n",
    "\n",
    "#lösung 3\n",
    "print(\"Lösung 3:\", wort1, wort5+wort3)\n",
    "\n",
    "#lösung 4\n",
    "print(\"Lösung 4:\", wort1, wort2+ \",\",wort3)\n",
    "\n",
    "# Lösung 5\n",
    "print(wort1, wort2 + wort4, wort3)\n"
   ]
  },
  {
   "cell_type": "markdown",
   "metadata": {},
   "source": [
    "#### Der String als Array\n",
    "\n",
    "In Python sind Strings programmiert als Arrays. (Noch Fußnote hinzufügen, wird in einem späteren Kurs durchgenommen)\n",
    "Es lassen sich deswegen alle Operationen anwenden, die Arrays definieren.\n",
    "\n",
    "Wir können auf Buchstaben des Strings zugreifen, die an einem bestimmten Index stehen.\n",
    "Dabei beginnt der Index bei 0.\n",
    "In der Tabelle ist eine Veranschaulichung des Zuordnung eines Index zu einem Buchstaben eines Strings.\n",
    "\n",
    "Index    |0|1|2|3|4\n",
    ":--------|-|-|-|-|-\n",
    "Buchstabe|H|a|l|l|o\n",
    "\n",
    "\n",
    "Für den Zugriff auf einen Buchstaben des Strings `my_string = \"Hallo\"`, welcher an Index i steht, ist diese Schreibweise in python vorgesehen: `my_string[i]`.\n",
    "\n",
    "Für den Zugriff auf mehrere hintereinanderhängende Buchstaben, z.B. der zweite bis vierte Buchstabe, ist folgende Schreibweise in Python vorgesehen: `my_string[1:4]`\n",
    "\n",
    "Es gibt zahlreiche Operationen, die sich auf Arrays anwenden lassen. Die zwei gezeigten Operationen sind ein Einstieg in den weiterführenden Kurs über Arrays."
   ]
  },
  {
   "cell_type": "code",
   "execution_count": null,
   "metadata": {},
   "outputs": [],
   "source": [
    "# Strings als Arrays"
   ]
  },
  {
   "cell_type": "markdown",
   "metadata": {},
   "source": [
    "#### Mögliche Fehlerquellen\n",
    "\n",
    "Es ist nicht möglich Operationen auf zwei Variablen unterschiedlicher Datentypen anzuwenden.\n",
    "\n",
    "```python\n",
    "# Dieser Code würde einen Error auslösen\n",
    "print(\"1\" + 2) # wir können nicht einen String auf einen Integer addieren\n",
    "```"
   ]
  },
  {
   "cell_type": "code",
   "execution_count": null,
   "metadata": {},
   "outputs": [],
   "source": [
    "# Fehlerquellen und Fehlertypen ausprobieren"
   ]
  },
  {
   "cell_type": "markdown",
   "metadata": {},
   "source": [
    "### Casting\n",
    "\n",
    "Wenn wir dennoch `\"1\" + 2` rechnen wollen, ist es möglich eine Variable von einem Datentyp in einen anderen Datentyp umwandeln. Z.b. können wir einen String in einen Integer umwandeln. In Python wird dafür diese Scheibweise genutzt: `int(\"1\")`"
   ]
  },
  {
   "cell_type": "code",
   "execution_count": null,
   "metadata": {},
   "outputs": [],
   "source": [
    "# Casting"
   ]
  },
  {
   "cell_type": "markdown",
   "metadata": {},
   "source": [
    "## FAQ's\n",
    "\n",
    "### Input/Output\n",
    "\n",
    "Mit der Methode `print()` können wir den Inhalt der Klammer auf der Konsole ausgeben.\n",
    "\n",
    "Mit der Methode `input()` können wir von der Konsole lesen."
   ]
  },
  {
   "cell_type": "code",
   "execution_count": null,
   "metadata": {},
   "outputs": [],
   "source": [
    "# print() und input() ausprobieren"
   ]
  },
  {
   "cell_type": "markdown",
   "metadata": {},
   "source": [
    "### Kommentare\n",
    "\n",
    "Kommentare in Python (und allen anderen Programmiersprachen) dienen der Verständlichkeit des Codes.\n",
    "Wir schreiben Kommentare über gesamte Codeblöcke oder hinter eine Zeile.\n",
    "\n",
    "```python\n",
    "print(7) # gibt die Zahl 7 auf der Konsole aus\n",
    "```\n",
    "\n",
    "```python\n",
    "# wir addieren zwei Variablen und geben das Ergebnis auf der Konsole aus\n",
    "int1 = 1\n",
    "int2 = 2\n",
    "print(int1 + int2)\n",
    "```"
   ]
  }
 ],
 "metadata": {
  "kernelspec": {
   "display_name": "Python 3",
   "language": "python",
   "name": "python3"
  },
  "language_info": {
   "codemirror_mode": {
    "name": "ipython",
    "version": 3
   },
   "file_extension": ".py",
   "mimetype": "text/x-python",
   "name": "python",
   "nbconvert_exporter": "python",
   "pygments_lexer": "ipython3",
   "version": "3.7.3"
  }
 },
 "nbformat": 4,
 "nbformat_minor": 4
}
